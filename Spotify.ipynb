{
 "cells": [
  {
   "cell_type": "code",
   "execution_count": 1,
   "metadata": {},
   "outputs": [],
   "source": [
    "import numpy as np\n",
    "import pandas as pd\n",
    "import matplotlib.pyplot as plt\n",
    "import seaborn as sns\n",
    "import scipy.stats\n",
    "import requests"
   ]
  },
  {
   "cell_type": "code",
   "execution_count": 2,
   "metadata": {},
   "outputs": [],
   "source": [
    "#Token / Ids\n",
    "url='https://accounts.spotify.com/api/token'\n",
    "client_id='39c58ce155a94f008ad14229d8447ef7'\n",
    "client_secret='c03dc70737814e6cb7f887e50db315ed'"
   ]
  },
  {
   "cell_type": "code",
   "execution_count": 3,
   "metadata": {},
   "outputs": [],
   "source": [
    "auth_response=requests.post(url, {\n",
    "    'grant_type': 'client_credentials',\n",
    "    'client_id': client_id,\n",
    "    'client_secret': client_secret,\n",
    "    })"
   ]
  },
  {
   "cell_type": "code",
   "execution_count": 4,
   "metadata": {},
   "outputs": [
    {
     "name": "stdout",
     "output_type": "stream",
     "text": [
      "BQBTnGNKYxSz6WQytAu4LCCdorFwvVsgIa0hZVYAEAdl10i_c9QwIDVb10iKsg08YyUYBdmLpMwRT958aNM\n"
     ]
    }
   ],
   "source": [
    "auth_response_data=auth_response.json()\n",
    "access_token=auth_response_data['access_token']\n",
    "print(access_token)"
   ]
  },
  {
   "cell_type": "code",
   "execution_count": 5,
   "metadata": {},
   "outputs": [],
   "source": [
    "headers={'Authorization': 'Bearer {}'.format(access_token)}"
   ]
  },
  {
   "cell_type": "code",
   "execution_count": 6,
   "metadata": {},
   "outputs": [
    {
     "data": {
      "text/plain": [
       "(1000, 40)"
      ]
     },
     "execution_count": 6,
     "metadata": {},
     "output_type": "execute_result"
    }
   ],
   "source": [
    "#Rock Top 1000\n",
    "import json\n",
    "playlists_url='https://api.spotify.com/v1/playlists/'\n",
    "playlists_id='7KMtxb9kh3TtVvJTdLtJ2K'\n",
    "\n",
    "playlist_rock1=requests.get(playlists_url+playlists_id+'/tracks?limit=100&offset='+str(0),headers=headers)\n",
    "rock_json=playlist_rock1.json()\n",
    "\n",
    "\n",
    "playlist_rock2=requests.get(playlists_url+playlists_id+'/tracks?limit=100&offset='+str(100),headers=headers)\n",
    "rock_json1=playlist_rock2.json()\n",
    "\n",
    "\n",
    "playlist_rock3=requests.get(playlists_url+playlists_id+'/tracks?limit=100&offset='+str(200),headers=headers)\n",
    "rock_json2=playlist_rock3.json()\n",
    "\n",
    "\n",
    "playlist_rock4=requests.get(playlists_url+playlists_id+'/tracks?limit=100&offset='+str(300),headers=headers)\n",
    "rock_json3=playlist_rock4.json()\n",
    "\n",
    "\n",
    "playlist_rock5=requests.get(playlists_url+playlists_id+'/tracks?limit=100&offset='+str(400),headers=headers)\n",
    "rock_json4=playlist_rock5.json()\n",
    "\n",
    "\n",
    "playlist_rock6=requests.get(playlists_url+playlists_id+'/tracks?limit=100&offset='+str(500),headers=headers)\n",
    "rock_json5=playlist_rock6.json()\n",
    "\n",
    "\n",
    "playlist_rock7=requests.get(playlists_url+playlists_id+'/tracks?limit=100&offset='+str(600),headers=headers)\n",
    "rock_json6=playlist_rock7.json()\n",
    "\n",
    "\n",
    "playlist_rock8=requests.get(playlists_url+playlists_id+'/tracks?limit=100&offset='+str(700),headers=headers)\n",
    "rock_json7=playlist_rock8.json()\n",
    "\n",
    "\n",
    "playlist_rock9=requests.get(playlists_url+playlists_id+'/tracks?limit=100&offset='+str(800),headers=headers)\n",
    "rock_json8=playlist_rock9.json()\n",
    "\n",
    "\n",
    "playlist_rock10=requests.get(playlists_url+playlists_id+'/tracks?limit=100&offset='+str(900),headers=headers)\n",
    "rock_json9=playlist_rock10.json()\n",
    "\n",
    "#Normalize Rock Songs\n",
    "rockjsons=[rock_json,rock_json1,rock_json2,rock_json3,rock_json4,rock_json5,rock_json6,rock_json7,rock_json8,rock_json9]\n",
    "rockdf=pd.json_normalize(rockjsons,record_path='items')\n",
    "rockdf.shape"
   ]
  },
  {
   "cell_type": "code",
   "execution_count": 7,
   "metadata": {},
   "outputs": [
    {
     "data": {
      "text/plain": [
       "(1000, 40)"
      ]
     },
     "execution_count": 7,
     "metadata": {},
     "output_type": "execute_result"
    }
   ],
   "source": [
    "#Trance Top 1000\n",
    "playlists_id1='4BJbcyG5JosaXGyucqOyI7'\n",
    "playlist_trance=requests.get(playlists_url+playlists_id1+ '/tracks?limit=100&offset='+str(0),headers=headers)\n",
    "trance_json=playlist_trance.json()\n",
    "\n",
    "playlist_trance1=requests.get(playlists_url+playlists_id1+ '/tracks?limit=100&offset='+str(100),headers=headers)\n",
    "trance_json1=playlist_trance1.json()\n",
    "\n",
    "playlist_trance2=requests.get(playlists_url+playlists_id1+ '/tracks?limit=100&offset='+str(200),headers=headers)\n",
    "trance_json2=playlist_trance2.json()\n",
    "\n",
    "playlist_trance3=requests.get(playlists_url+playlists_id1+ '/tracks?limit=100&offset='+str(300),headers=headers)\n",
    "trance_json3=playlist_trance3.json()\n",
    "\n",
    "playlist_trance4=requests.get(playlists_url+playlists_id1+ '/tracks?limit=100&offset='+str(400),headers=headers)\n",
    "trance_json4=playlist_trance4.json()\n",
    "\n",
    "playlist_trance5=requests.get(playlists_url+playlists_id1+ '/tracks?limit=100&offset='+str(500),headers=headers)\n",
    "trance_json5=playlist_trance5.json()\n",
    "\n",
    "playlist_trance6=requests.get(playlists_url+playlists_id1+ '/tracks?limit=100&offset='+str(600),headers=headers)\n",
    "trance_json6=playlist_trance6.json()\n",
    "\n",
    "playlist_trance7=requests.get(playlists_url+playlists_id1+ '/tracks?limit=100&offset='+str(700),headers=headers)\n",
    "trance_json7=playlist_trance7.json()\n",
    "\n",
    "playlist_trance8=requests.get(playlists_url+playlists_id1+ '/tracks?limit=100&offset='+str(800),headers=headers)\n",
    "trance_json8=playlist_trance8.json()\n",
    "\n",
    "playlist_trance9=requests.get(playlists_url+playlists_id1+ '/tracks?limit=100&offset='+str(900),headers=headers)\n",
    "trance_json9=playlist_trance9.json()\n",
    "\n",
    "#Normalize Trance Songs\n",
    "trancejsons=[trance_json1,trance_json2,trance_json3,trance_json4,trance_json5,trance_json6,trance_json7,trance_json8,trance_json9,trance_json]\n",
    "trancedf=pd.json_normalize(trancejsons,record_path='items')\n",
    "trancedf.shape"
   ]
  },
  {
   "cell_type": "code",
   "execution_count": 8,
   "metadata": {},
   "outputs": [
    {
     "data": {
      "text/plain": [
       "(1000, 40)"
      ]
     },
     "execution_count": 8,
     "metadata": {},
     "output_type": "execute_result"
    }
   ],
   "source": [
    "#Top 1000 Hip Hop Rap\n",
    "playlists_id2='5AVEP6Z2kNCo1ZHShutXbT'\n",
    "playlist_rap=requests.get(playlists_url+playlists_id2+'/tracks?limit=100',headers=headers)\n",
    "rap_json=playlist_rap.json()\n",
    "\n",
    "playlist_rap1=requests.get(playlists_url+playlists_id2+ '/tracks?limit=100&offset='+str(100),headers=headers)\n",
    "rap_json1=playlist_rap1.json()\n",
    "\n",
    "playlist_rap2=requests.get(playlists_url+playlists_id2+ '/tracks?limit=100&offset='+str(200),headers=headers)\n",
    "rap_json2=playlist_rap2.json()\n",
    "\n",
    "playlist_rap3=requests.get(playlists_url+playlists_id2+ '/tracks?limit=100&offset='+str(300),headers=headers)\n",
    "rap_json3=playlist_rap3.json()\n",
    "\n",
    "playlist_rap4=requests.get(playlists_url+playlists_id2+ '/tracks?limit=100&offset='+str(400),headers=headers)\n",
    "rap_json4=playlist_rap4.json()\n",
    "\n",
    "playlist_rap5=requests.get(playlists_url+playlists_id2+ '/tracks?limit=100&offset='+str(500),headers=headers)\n",
    "rap_json5=playlist_rap5.json()\n",
    "\n",
    "playlist_rap6=requests.get(playlists_url+playlists_id2+ '/tracks?limit=100&offset='+str(600),headers=headers)\n",
    "rap_json6=playlist_rap6.json()\n",
    "\n",
    "playlist_rap7=requests.get(playlists_url+playlists_id2+ '/tracks?limit=100&offset='+str(700),headers=headers)\n",
    "rap_json7=playlist_rap7.json()\n",
    "\n",
    "playlist_rap8=requests.get(playlists_url+playlists_id2+ '/tracks?limit=100&offset='+str(800),headers=headers)\n",
    "rap_json8=playlist_rap8.json()\n",
    "\n",
    "playlist_rap9=requests.get(playlists_url+playlists_id2+ '/tracks?limit=100&offset='+str(900),headers=headers)\n",
    "rap_json9=playlist_rap9.json()\n",
    "\n",
    "#Normalize Rap Songs\n",
    "rapjsons=[rap_json1,rap_json2,rap_json3,rap_json4,rap_json5,rap_json6,rap_json7,rap_json8,rap_json9,rap_json]\n",
    "rapdf=pd.json_normalize(rapjsons,record_path='items')\n",
    "rapdf.shape"
   ]
  },
  {
   "cell_type": "code",
   "execution_count": 11,
   "metadata": {},
   "outputs": [
    {
     "data": {
      "text/plain": [
       "(1000, 40)"
      ]
     },
     "execution_count": 11,
     "metadata": {},
     "output_type": "execute_result"
    }
   ],
   "source": [
    "# Top 1000 Pop\n",
    "playlists_id3='23HsgHgvpjludlObYNpA1S'\n",
    "playlists_pop=requests.get(playlists_url+ playlists_id3+'/tracks?limit=100',headers=headers)\n",
    "pop_json=playlists_pop.json()\n",
    "\n",
    "playlist_pop1=requests.get(playlists_url+playlists_id3+ '/tracks?limit=100&offset='+str(100),headers=headers)\n",
    "pop_json1=playlist_pop1.json()\n",
    "\n",
    "playlist_pop2=requests.get(playlists_url+playlists_id3+ '/tracks?limit=100&offset='+str(200),headers=headers)\n",
    "pop_json2=playlist_pop2.json()\n",
    "\n",
    "playlist_pop3=requests.get(playlists_url+playlists_id3+ '/tracks?limit=100&offset='+str(300),headers=headers)\n",
    "pop_json3=playlist_pop3.json()\n",
    "\n",
    "playlist_pop4=requests.get(playlists_url+playlists_id3+ '/tracks?limit=100&offset='+str(400),headers=headers)\n",
    "pop_json4=playlist_pop4.json()\n",
    "\n",
    "playlist_pop5=requests.get(playlists_url+playlists_id3+ '/tracks?limit=100&offset='+str(500),headers=headers)\n",
    "pop_json5=playlist_pop5.json()\n",
    "\n",
    "playlist_pop6=requests.get(playlists_url+playlists_id3+ '/tracks?limit=100&offset='+str(600),headers=headers)\n",
    "pop_json6=playlist_pop6.json()\n",
    "\n",
    "playlist_pop7=requests.get(playlists_url+playlists_id3+ '/tracks?limit=100&offset='+str(700),headers=headers)\n",
    "pop_json7=playlist_pop7.json()\n",
    "\n",
    "playlist_pop8=requests.get(playlists_url+playlists_id3+ '/tracks?limit=100&offset='+str(800),headers=headers)\n",
    "pop_json8=playlist_pop8.json()\n",
    "\n",
    "playlist_pop9=requests.get(playlists_url+playlists_id3+ '/tracks?limit=100&offset='+str(900),headers=headers)\n",
    "pop_json9=playlist_pop9.json()\n",
    "\n",
    "#Normalize Pop Songs\n",
    "popjsons=[pop_json1,pop_json2,pop_json3,pop_json4,pop_json5,pop_json6,pop_json7,pop_json8,pop_json9,pop_json]\n",
    "popdf=pd.json_normalize(popjsons,record_path='items')\n",
    "popdf.shape"
   ]
  },
  {
   "cell_type": "code",
   "execution_count": 13,
   "metadata": {},
   "outputs": [
    {
     "data": {
      "text/plain": [
       "(989, 40)"
      ]
     },
     "execution_count": 13,
     "metadata": {},
     "output_type": "execute_result"
    }
   ],
   "source": [
    "#R&B Top 1000\n",
    "playlists_id4='7CI3NR7rvCkgiLhch1qprf'\n",
    "playlists_rb=requests.get(playlists_url+playlists_id4+'/tracks?limit=100',headers=headers)\n",
    "rb_json=playlists_rb.json()\n",
    "\n",
    "playlist_rb1=requests.get(playlists_url+playlists_id4+ '/tracks?limit=100&offset='+str(100),headers=headers)\n",
    "rb_json1=playlist_rb1.json()\n",
    "\n",
    "playlist_rb2=requests.get(playlists_url+playlists_id4+ '/tracks?limit=100&offset='+str(200),headers=headers)\n",
    "rb_json2=playlist_rb2.json()\n",
    "\n",
    "playlist_rb3=requests.get(playlists_url+playlists_id4+ '/tracks?limit=100&offset='+str(300),headers=headers)\n",
    "rb_json3=playlist_rb3.json()\n",
    "\n",
    "playlist_rb4=requests.get(playlists_url+playlists_id4+ '/tracks?limit=100&offset='+str(400),headers=headers)\n",
    "rb_json4=playlist_rb4.json()\n",
    "\n",
    "playlist_rb5=requests.get(playlists_url+playlists_id4+ '/tracks?limit=100&offset='+str(500),headers=headers)\n",
    "rb_json5=playlist_rb5.json()\n",
    "\n",
    "playlist_rb6=requests.get(playlists_url+playlists_id4+ '/tracks?limit=100&offset='+str(600),headers=headers)\n",
    "rb_json6=playlist_rb6.json()\n",
    "\n",
    "playlist_rb7=requests.get(playlists_url+playlists_id4+ '/tracks?limit=100&offset='+str(700),headers=headers)\n",
    "rb_json7=playlist_rb7.json()\n",
    "\n",
    "playlist_rb8=requests.get(playlists_url+playlists_id4+ '/tracks?limit=100&offset='+str(800),headers=headers)\n",
    "rb_json8=playlist_rb8.json()\n",
    "\n",
    "playlist_rb9=requests.get(playlists_url+playlists_id4+ '/tracks?limit=100&offset='+str(900),headers=headers)\n",
    "rb_json9=playlist_rb9.json()\n",
    "\n",
    "#Normalize RB Tracks\n",
    "rbjsons=[rb_json1,rb_json2,rb_json3,rb_json4,rb_json5,rb_json6,rb_json7,rb_json8,rb_json9,rb_json]\n",
    "rbdf=pd.json_normalize(rbjsons,record_path='items')\n",
    "rbdf.shape"
   ]
  },
  {
   "cell_type": "code",
   "execution_count": 16,
   "metadata": {},
   "outputs": [
    {
     "data": {
      "text/plain": [
       "972"
      ]
     },
     "execution_count": 16,
     "metadata": {},
     "output_type": "execute_result"
    }
   ],
   "source": [
    "rbdf['track.name'].nunique()"
   ]
  },
  {
   "cell_type": "code",
   "execution_count": null,
   "metadata": {},
   "outputs": [],
   "source": []
  }
 ],
 "metadata": {
  "kernelspec": {
   "display_name": "Python 3",
   "language": "python",
   "name": "python3"
  },
  "language_info": {
   "codemirror_mode": {
    "name": "ipython",
    "version": 3
   },
   "file_extension": ".py",
   "mimetype": "text/x-python",
   "name": "python",
   "nbconvert_exporter": "python",
   "pygments_lexer": "ipython3",
   "version": "3.8.5"
  }
 },
 "nbformat": 4,
 "nbformat_minor": 4
}
